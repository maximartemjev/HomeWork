{
 "cells": [
  {
   "cell_type": "markdown",
   "id": "cde21fdf",
   "metadata": {},
   "source": [
    "# Домашнее задание к лекции \"Введение в типы данных и циклы. Часть 1\""
   ]
  },
  {
   "cell_type": "markdown",
   "id": "1b88beae",
   "metadata": {},
   "source": [
    "# Задание 1"
   ]
  },
  {
   "cell_type": "code",
   "execution_count": null,
   "id": "931c451f",
   "metadata": {},
   "outputs": [],
   "source": [
    "# Дана переменная, в которой хранится слово из латинских букв. Напишите код, который выводит на экран"
   ]
  },
  {
   "cell_type": "code",
   "execution_count": null,
   "id": "17276123",
   "metadata": {},
   "outputs": [],
   "source": [
    "# две средних буквы, если число букв четное"
   ]
  },
  {
   "cell_type": "code",
   "execution_count": 22,
   "id": "4945f02f",
   "metadata": {},
   "outputs": [
    {
     "name": "stdout",
     "output_type": "stream",
     "text": [
      "es\n"
     ]
    }
   ],
   "source": [
    "my_string = 'test' \n",
    "len (my_string)\n",
    "if len (my_string) % 2 == 0:\n",
    "    print (my_string [1:3])    "
   ]
  },
  {
   "cell_type": "code",
   "execution_count": null,
   "id": "f51651a4",
   "metadata": {},
   "outputs": [],
   "source": [
    "# среднюю букву, если число букв в слове нечетное"
   ]
  },
  {
   "cell_type": "code",
   "execution_count": 23,
   "id": "d0b4d5d4",
   "metadata": {},
   "outputs": [
    {
     "name": "stdout",
     "output_type": "stream",
     "text": [
      "t\n"
     ]
    }
   ],
   "source": [
    "my_string = 'testing'\n",
    "len (my_string)\n",
    "if len (my_string) % 1 == 0:\n",
    "    print ((my_string) [3])"
   ]
  },
  {
   "cell_type": "markdown",
   "id": "7c2ba5d8",
   "metadata": {},
   "source": [
    "#  Задание 2"
   ]
  },
  {
   "cell_type": "code",
   "execution_count": null,
   "id": "43372d23",
   "metadata": {},
   "outputs": [],
   "source": [
    "# Напишите программу, которая последовательно запрашивает у пользователя числа \n",
    "# (по одному за раз) и после первого нуля выводит сумму всех ранее введенных чисел."
   ]
  },
  {
   "cell_type": "code",
   "execution_count": null,
   "id": "b4a529ef",
   "metadata": {},
   "outputs": [
    {
     "name": "stdout",
     "output_type": "stream",
     "text": [
      "Input a number for result\n",
      "Input a number: 7\n",
      "Input a number: 8\n",
      "Input a number: 9\n",
      "Input a number: 0\n",
      "Sum of numbers is: 24\n"
     ]
    }
   ],
   "source": [
    "print (\"Input a number for result\")\n",
    "sum = 0\n",
    "while True:\n",
    "    x = input(\"Input a number: \")\n",
    "    if x == \"0\":\n",
    "        break\n",
    "    x = int(x)\n",
    "    sum += x\n",
    "print (\"Sum of numbers is:\", sum)\n",
    "input()"
   ]
  },
  {
   "cell_type": "markdown",
   "id": "03413e41",
   "metadata": {},
   "source": [
    "# Задание 3"
   ]
  },
  {
   "cell_type": "code",
   "execution_count": null,
   "id": "09bc094d",
   "metadata": {},
   "outputs": [],
   "source": [
    "## Мы делаем MVP dating-сервиса, и у нас есть список парней и девушек.\n",
    "## Выдвигаем гипотезу: лучшие рекомендации мы получим, \n",
    "## если просто отсортируем имена по алфавиту и познакомим людей \n",
    "## с одинаковыми индексами после сортировки! "
   ]
  },
  {
   "cell_type": "code",
   "execution_count": 6,
   "id": "7624aa97",
   "metadata": {},
   "outputs": [],
   "source": [
    "boys= ['Peter', 'Alex', 'John', 'Arthur', 'Richard']\n",
    "girls = ['Kate', 'Liza', 'Kira', 'Emma', 'Trisha']"
   ]
  },
  {
   "cell_type": "code",
   "execution_count": 7,
   "id": "68a38e15",
   "metadata": {},
   "outputs": [
    {
     "data": {
      "text/plain": [
       "['Alex', 'Arthur', 'John', 'Peter', 'Richard']"
      ]
     },
     "execution_count": 7,
     "metadata": {},
     "output_type": "execute_result"
    }
   ],
   "source": [
    "sorted(boys)"
   ]
  },
  {
   "cell_type": "code",
   "execution_count": 8,
   "id": "e0ca02c5",
   "metadata": {},
   "outputs": [
    {
     "data": {
      "text/plain": [
       "['Emma', 'Kate', 'Kira', 'Liza', 'Trisha']"
      ]
     },
     "execution_count": 8,
     "metadata": {},
     "output_type": "execute_result"
    }
   ],
   "source": [
    "sorted(girls)"
   ]
  },
  {
   "cell_type": "code",
   "execution_count": 9,
   "id": "957e0d0c",
   "metadata": {},
   "outputs": [
    {
     "data": {
      "text/plain": [
       "[('Emma', 'Alex'),\n",
       " ('Kate', 'Arthur'),\n",
       " ('Kira', 'John'),\n",
       " ('Liza', 'Peter'),\n",
       " ('Trisha', 'Richard')]"
      ]
     },
     "execution_count": 9,
     "metadata": {},
     "output_type": "execute_result"
    }
   ],
   "source": [
    "boys_by_girls = zip(sorted(girls), sorted(boys))\n",
    "list (boys_by_girls)\n"
   ]
  },
  {
   "cell_type": "code",
   "execution_count": 10,
   "id": "e6526713",
   "metadata": {},
   "outputs": [],
   "source": [
    "## Но мы не будем никого знакомить, если кто-то может остаться без пары:"
   ]
  },
  {
   "cell_type": "code",
   "execution_count": 11,
   "id": "491db7bd",
   "metadata": {},
   "outputs": [],
   "source": [
    "boys = ['Peter', 'Alex', 'John', 'Arthur', 'Richard', 'Michael']\n",
    "girls = ['Kate', 'Liza', 'Kira', 'Emma', 'Trisha']"
   ]
  },
  {
   "cell_type": "code",
   "execution_count": 12,
   "id": "393be9bc",
   "metadata": {},
   "outputs": [
    {
     "data": {
      "text/plain": [
       "['Alex', 'Arthur', 'John', 'Michael', 'Peter', 'Richard']"
      ]
     },
     "execution_count": 12,
     "metadata": {},
     "output_type": "execute_result"
    }
   ],
   "source": [
    "sorted(boys)"
   ]
  },
  {
   "cell_type": "code",
   "execution_count": 13,
   "id": "010e726b",
   "metadata": {},
   "outputs": [
    {
     "data": {
      "text/plain": [
       "['Emma', 'Kate', 'Kira', 'Liza', 'Trisha']"
      ]
     },
     "execution_count": 13,
     "metadata": {},
     "output_type": "execute_result"
    }
   ],
   "source": [
    "sorted(girls)"
   ]
  },
  {
   "cell_type": "code",
   "execution_count": 14,
   "id": "383a49a5",
   "metadata": {},
   "outputs": [
    {
     "data": {
      "text/plain": [
       "[('Emma', 'Alex'),\n",
       " ('Kate', 'Arthur'),\n",
       " ('Kira', 'John'),\n",
       " ('Liza', 'Michael'),\n",
       " ('Trisha', 'Peter')]"
      ]
     },
     "execution_count": 14,
     "metadata": {},
     "output_type": "execute_result"
    }
   ],
   "source": [
    "boys_by_girls = zip(sorted(girls), sorted(boys))\n",
    "list (boys_by_girls)"
   ]
  },
  {
   "cell_type": "code",
   "execution_count": 15,
   "id": "95188bd1",
   "metadata": {},
   "outputs": [],
   "source": [
    "## Richard - остался без пары"
   ]
  },
  {
   "cell_type": "markdown",
   "id": "f649a390",
   "metadata": {},
   "source": [
    "# Задание 4"
   ]
  },
  {
   "cell_type": "code",
   "execution_count": 16,
   "id": "1b0ed3fc",
   "metadata": {},
   "outputs": [],
   "source": [
    "## У нас есть список, содержащий информацию о среднедневной температуре \n",
    "## в Фаренгейтах за произвольный период по странам \n",
    "## (структура данных в примере). \n",
    "## Необходимо написать код, который рассчитает среднюю температуру\n",
    "## за период в Цельсиях(!) для каждой страны."
   ]
  },
  {
   "cell_type": "code",
   "execution_count": 18,
   "id": "3c2621f7",
   "metadata": {},
   "outputs": [
    {
     "name": "stdout",
     "output_type": "stream",
     "text": [
      "[['Thailand', 24.05], ['Germany', 13.91], ['Russia', 3.74], ['Poland', 12.1]]\n"
     ]
    }
   ],
   "source": [
    "countries_temperature = [\n",
    "    ['Thailand', [75.2, 77, 78.8, 73.4, 68, 75.2, 77]],\n",
    "    ['Germany', [57.2, 55.4, 59, 59, 53.6]],\n",
    "    ['Russia', [35.6, 37.4, 39.2, 41, 42.8, 39.2, 35.6]],\n",
    "    ['Poland', [50, 50, 53.6, 57.2, 55.4, 55.4]]]\n",
    "celsius_temperature = list(map(lambda x: [x[0], round((sum(x[1])/len(x[1]) - 32) * 0.56, 2)], countries_temperature))\n",
    " \n",
    "print(celsius_temperature)"
   ]
  }
 ],
 "metadata": {
  "kernelspec": {
   "display_name": "Python 3",
   "language": "python",
   "name": "python3"
  },
  "language_info": {
   "codemirror_mode": {
    "name": "ipython",
    "version": 3
   },
   "file_extension": ".py",
   "mimetype": "text/x-python",
   "name": "python",
   "nbconvert_exporter": "python",
   "pygments_lexer": "ipython3",
   "version": "3.8.8"
  }
 },
 "nbformat": 4,
 "nbformat_minor": 5
}
